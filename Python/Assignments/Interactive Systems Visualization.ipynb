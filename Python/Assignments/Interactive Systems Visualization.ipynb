{
 "cells": [
  {
   "cell_type": "markdown",
   "id": "ad65b44c",
   "metadata": {},
   "source": [
    "## Interactive Modeling and Visualization of Physical and Energy Systems"
   ]
  },
  {
   "cell_type": "markdown",
   "id": "cfd84bfb",
   "metadata": {},
   "source": [
    "### Problem 1"
   ]
  },
  {
   "cell_type": "markdown",
   "id": "8634752a",
   "metadata": {},
   "source": [
    "#### Goal: Create interactive dashboard that allows users to select day and month and output total energy"
   ]
  },
  {
   "cell_type": "code",
   "execution_count": 1,
   "id": "379c175a",
   "metadata": {},
   "outputs": [],
   "source": [
    "import numpy as np\n",
    "import matplotlib.pyplot as plt\n",
    "from scipy.integrate import quad, trapezoid\n",
    "from ipywidgets import interactive, interact\n",
    "import ipywidgets as widgets \n",
    "from scipy.integrate import odeint"
   ]
  },
  {
   "cell_type": "code",
   "execution_count": 2,
   "id": "556d164c",
   "metadata": {},
   "outputs": [],
   "source": [
    "# Read in full data and assign each column to a variable\n",
    "fulldata = np.genfromtxt('LakeMead_2023.csv', skip_header = 3, delimiter = ',', dtype=int)\n",
    "\n",
    "data = fulldata[:,1:]\n",
    "month = data[:,0]\n",
    "day = data[:,1]\n",
    "hour = data[:,2]\n",
    "min = data[:,3]\n",
    "ghi = data[:,4]"
   ]
  },
  {
   "cell_type": "code",
   "execution_count": 3,
   "id": "2594cd4c",
   "metadata": {},
   "outputs": [],
   "source": [
    "# Create function that will allow users to input the day and month and output the total energy in kJ/sec\n",
    "def energy(dy, mth):\n",
    "    \n",
    "    dmnth = np.where((day == dy) & (month == mth))[0] # Extract index where day and month match \n",
    "    ghiv = ghi[dmnth] # Returns GHI given index of day and month\n",
    "    \n",
    "    time = (hour[dmnth] * 3600 + min[dmnth] * 60) # Calculate time and convert to seconds\n",
    "    \n",
    "    total = trapezoid(ghiv, dx = 900)/1000 # Total energy using the trapezoid function (dx = 900 seconds - 15 minutes | Dividing by 1000 to convert)\n",
    "    \n",
    "    fig,ax = plt.subplots(figsize = (8,4))\n",
    "    fig.suptitle('Solar Radiation')\n",
    "    ax.plot(time,ghiv)\n",
    "    ax.set_xlabel('Seconds')\n",
    "    ax.set_ylabel('Global Horizontal Irradiance')\n",
    "    \n",
    "    print(f'Total Energy: {total} kJ/sec')"
   ]
  },
  {
   "cell_type": "code",
   "execution_count": 4,
   "id": "ed1e68d8",
   "metadata": {},
   "outputs": [],
   "source": [
    "# Widgets to allow user to modify interactive plot\n",
    "day_slider = widgets.IntSlider(\n",
    "    value=1,\n",
    "    min=1,\n",
    "    max=31,\n",
    "    step=1,\n",
    "    \n",
    ")\n",
    "\n",
    "month_slider = widgets.IntSlider(\n",
    "    value=1,\n",
    "    min=1,\n",
    "    max=12,\n",
    "    step=1,\n",
    ")"
   ]
  },
  {
   "cell_type": "code",
   "execution_count": 5,
   "id": "dc6f14f2",
   "metadata": {},
   "outputs": [
    {
     "data": {
      "application/vnd.jupyter.widget-view+json": {
       "model_id": "9f0b2a9642bf4b31adf1b7ac633b1adc",
       "version_major": 2,
       "version_minor": 0
      },
      "text/plain": [
       "interactive(children=(IntSlider(value=1, description='dy', max=31, min=1), IntSlider(value=1, description='mth…"
      ]
     },
     "metadata": {},
     "output_type": "display_data"
    }
   ],
   "source": [
    "interactivePlot = interact(energy, dy = day_slider, mth = month_slider)"
   ]
  },
  {
   "cell_type": "markdown",
   "id": "67be06bd",
   "metadata": {},
   "source": [
    "### Problem 2"
   ]
  },
  {
   "cell_type": "markdown",
   "id": "2a56df23",
   "metadata": {},
   "source": [
    "#### Goal: Create an interactive dashboard to display a phase diagram and trajectory graph of a massless spring using odeint function"
   ]
  },
  {
   "cell_type": "code",
   "execution_count": 6,
   "id": "36b5d713",
   "metadata": {},
   "outputs": [],
   "source": [
    "# Initial Values\n",
    "k = 0.1\n",
    "y1i = 0\n",
    "y2i = 3\n",
    "\n",
    "# First order equation\n",
    "def ODE(y,t,k):\n",
    "    y1, y2 = y\n",
    "    y1p = y2\n",
    "    y2p = -k*y1\n",
    "    return [y1p, y2p]\n",
    "\n",
    "# Function provides a way for users to modify k, initial velocity, and initial position\n",
    "# Creating and plotting our phase diagram as well as our static plot\n",
    "def plots(k, y1i, y2i):\n",
    "    t = np.arange(0,10,0.1) \n",
    "    fig, ax = plt.subplots(figsize = (8,4))\n",
    "    ax.set_title('Phase Diagram')\n",
    "    ax.set_xlabel('Position')\n",
    "    ax.set_ylabel('Velocity')\n",
    "    ax.set_xlim(0,10)\n",
    "    \n",
    "    # Phase Diagram\n",
    "    ph = odeint(ODE,[y1i,y2i],t,args=(k,)) # Solve the ODE with the odeint function\n",
    "    \n",
    "    y1v, y2v = np.arange(0,10.1,0.5), np.arange(0,10.1,0.5)\n",
    "    y1s, y2s = np.meshgrid(y1v, y2v)\n",
    "    \n",
    "    # Finding our derivatives \n",
    "    y1p = y2s\n",
    "    y2p = -k*y1s\n",
    "    \n",
    "    # Use quiver to plot points at (y1s,y2s) with arrows pointing in the direction of its derivative (y1p,y2p)\n",
    "    plt.quiver(y1s, y2s, y1p, y2p)\n",
    "    \n",
    "    # Static plot of the springs position and velocity over time\n",
    "    fig, ax = plt.subplots(figsize = (8,4))\n",
    "    ax.set_title('Static Plot')\n",
    "    ax.set_xlabel('Time')\n",
    "    ax.set_ylabel('Position & Time')\n",
    "    ax.set_xlim(0,9)\n",
    "    \n",
    "    plt.plot(t, ph[:,0], label = 'Position')\n",
    "    plt.plot(t, ph[:,1], label = 'Velocity')\n",
    "    \n",
    "    plt.legend()"
   ]
  },
  {
   "cell_type": "code",
   "execution_count": 7,
   "id": "70dbad2d",
   "metadata": {},
   "outputs": [],
   "source": [
    "# Create widgets to modify k, initial position, and initial velocity\n",
    "kwidg = widgets.FloatSlider(\n",
    "    value=0.1,\n",
    "    min=0.1,\n",
    "    max=10.0,\n",
    "    step=0.1,\n",
    "    description='K (constant):',\n",
    ")\n",
    "\n",
    "y1widg = widgets.FloatSlider(\n",
    "    value=0,\n",
    "    min=0,\n",
    "    max=10.0,\n",
    "    step=1,\n",
    "    description='Position:',\n",
    ")\n",
    "\n",
    "y2widg = widgets.FloatSlider(\n",
    "    value=3,\n",
    "    min=-10.0,\n",
    "    max=10.0,\n",
    "    step=1,\n",
    "    description='Velocity: ',\n",
    ")"
   ]
  },
  {
   "cell_type": "code",
   "execution_count": 8,
   "id": "4aa04e1c",
   "metadata": {},
   "outputs": [
    {
     "data": {
      "application/vnd.jupyter.widget-view+json": {
       "model_id": "8085f94d05674ef9ad6e23ec6dd9f720",
       "version_major": 2,
       "version_minor": 0
      },
      "text/plain": [
       "interactive(children=(FloatSlider(value=0.1, description='K (constant):', max=10.0, min=0.1), FloatSlider(valu…"
      ]
     },
     "metadata": {},
     "output_type": "display_data"
    }
   ],
   "source": [
    "interactive = interact(plots, k = kwidg, y1i = y1widg, y2i = y2widg)"
   ]
  },
  {
   "cell_type": "markdown",
   "id": "ab3e664d",
   "metadata": {},
   "source": [
    "#### Note: When widgets are modified, there might be more figures that are created. In other cases the graphs update just fine without duplications. Unsure how to fix when the outcome fluctuates."
   ]
  }
 ],
 "metadata": {
  "kernelspec": {
   "display_name": "Python 3 (ipykernel)",
   "language": "python",
   "name": "python3"
  },
  "language_info": {
   "codemirror_mode": {
    "name": "ipython",
    "version": 3
   },
   "file_extension": ".py",
   "mimetype": "text/x-python",
   "name": "python",
   "nbconvert_exporter": "python",
   "pygments_lexer": "ipython3",
   "version": "3.9.18"
  }
 },
 "nbformat": 4,
 "nbformat_minor": 5
}
